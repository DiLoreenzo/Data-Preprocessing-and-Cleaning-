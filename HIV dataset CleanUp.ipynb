{
 "cells": [
  {
   "cell_type": "code",
   "execution_count": 1,
   "id": "7e4b8a0b",
   "metadata": {},
   "outputs": [],
   "source": [
    "import numpy as np\n",
    "import pandas as pd\n",
    "import seaborn as sns\n",
    "import matplotlib.pyplot as plt \n",
    "import os\n",
    "import datetime\n",
    "%matplotlib inline"
   ]
  },
  {
   "cell_type": "code",
   "execution_count": 46,
   "id": "351ced5e",
   "metadata": {},
   "outputs": [
    {
     "data": {
      "text/html": [
       "<div>\n",
       "<style scoped>\n",
       "    .dataframe tbody tr th:only-of-type {\n",
       "        vertical-align: middle;\n",
       "    }\n",
       "\n",
       "    .dataframe tbody tr th {\n",
       "        vertical-align: top;\n",
       "    }\n",
       "\n",
       "    .dataframe thead th {\n",
       "        text-align: right;\n",
       "    }\n",
       "</style>\n",
       "<table border=\"1\" class=\"dataframe\">\n",
       "  <thead>\n",
       "    <tr style=\"text-align: right;\">\n",
       "      <th></th>\n",
       "      <th>YEAR</th>\n",
       "      <th>Borough</th>\n",
       "      <th>Neighborhood (U.H.F)</th>\n",
       "      <th>SEX</th>\n",
       "      <th>RACE/ETHNICITY</th>\n",
       "      <th>TOTAL NUMBER OF HIV DIAGNOSES</th>\n",
       "      <th>HIV DIAGNOSES PER 100,000 POPULATION</th>\n",
       "      <th>TOTAL NUMBER OF CONCURRENT HIV/AIDS DIAGNOSES</th>\n",
       "      <th>PROPORTION OF CONCURRENT HIV/AIDS DIAGNOSES AMONG ALL HIV DIAGNOSES</th>\n",
       "      <th>TOTAL NUMBER OF AIDS DIAGNOSES</th>\n",
       "      <th>AIDS DIAGNOSES PER 100,000 POPULATION</th>\n",
       "    </tr>\n",
       "  </thead>\n",
       "  <tbody>\n",
       "    <tr>\n",
       "      <th>0</th>\n",
       "      <td>2010</td>\n",
       "      <td>NaN</td>\n",
       "      <td>Greenpoint</td>\n",
       "      <td>Male</td>\n",
       "      <td>Black</td>\n",
       "      <td>6</td>\n",
       "      <td>330.4</td>\n",
       "      <td>0</td>\n",
       "      <td>0</td>\n",
       "      <td>5</td>\n",
       "      <td>275.3</td>\n",
       "    </tr>\n",
       "    <tr>\n",
       "      <th>1</th>\n",
       "      <td>2011</td>\n",
       "      <td>NaN</td>\n",
       "      <td>Stapleton - St. George</td>\n",
       "      <td>Female</td>\n",
       "      <td>Native American</td>\n",
       "      <td>0</td>\n",
       "      <td>0</td>\n",
       "      <td>0</td>\n",
       "      <td>0</td>\n",
       "      <td>0</td>\n",
       "      <td>0</td>\n",
       "    </tr>\n",
       "    <tr>\n",
       "      <th>2</th>\n",
       "      <td>2010</td>\n",
       "      <td>NaN</td>\n",
       "      <td>Southeast Queens</td>\n",
       "      <td>Male</td>\n",
       "      <td>All</td>\n",
       "      <td>23</td>\n",
       "      <td>25.4</td>\n",
       "      <td>5</td>\n",
       "      <td>21.7</td>\n",
       "      <td>14</td>\n",
       "      <td>15.4</td>\n",
       "    </tr>\n",
       "    <tr>\n",
       "      <th>3</th>\n",
       "      <td>2012</td>\n",
       "      <td>NaN</td>\n",
       "      <td>Upper Westside</td>\n",
       "      <td>Female</td>\n",
       "      <td>Unknown</td>\n",
       "      <td>0</td>\n",
       "      <td>0</td>\n",
       "      <td>0</td>\n",
       "      <td>0</td>\n",
       "      <td>0</td>\n",
       "      <td>0</td>\n",
       "    </tr>\n",
       "    <tr>\n",
       "      <th>4</th>\n",
       "      <td>2013</td>\n",
       "      <td>NaN</td>\n",
       "      <td>Willowbrook</td>\n",
       "      <td>Male</td>\n",
       "      <td>Unknown</td>\n",
       "      <td>0</td>\n",
       "      <td>0</td>\n",
       "      <td>0</td>\n",
       "      <td>0</td>\n",
       "      <td>0</td>\n",
       "      <td>0</td>\n",
       "    </tr>\n",
       "  </tbody>\n",
       "</table>\n",
       "</div>"
      ],
      "text/plain": [
       "   YEAR Borough    Neighborhood (U.H.F)     SEX   RACE/ETHNICITY  \\\n",
       "0  2010     NaN              Greenpoint    Male            Black   \n",
       "1  2011     NaN  Stapleton - St. George  Female  Native American   \n",
       "2  2010     NaN        Southeast Queens    Male              All   \n",
       "3  2012     NaN          Upper Westside  Female          Unknown   \n",
       "4  2013     NaN             Willowbrook    Male          Unknown   \n",
       "\n",
       "  TOTAL NUMBER OF HIV DIAGNOSES HIV DIAGNOSES PER 100,000 POPULATION  \\\n",
       "0                             6                                330.4   \n",
       "1                             0                                    0   \n",
       "2                            23                                 25.4   \n",
       "3                             0                                    0   \n",
       "4                             0                                    0   \n",
       "\n",
       "  TOTAL NUMBER OF CONCURRENT HIV/AIDS DIAGNOSES  \\\n",
       "0                                             0   \n",
       "1                                             0   \n",
       "2                                             5   \n",
       "3                                             0   \n",
       "4                                             0   \n",
       "\n",
       "  PROPORTION OF CONCURRENT HIV/AIDS DIAGNOSES AMONG ALL HIV DIAGNOSES  \\\n",
       "0                                                  0                    \n",
       "1                                                  0                    \n",
       "2                                               21.7                    \n",
       "3                                                  0                    \n",
       "4                                                  0                    \n",
       "\n",
       "  TOTAL NUMBER OF AIDS DIAGNOSES AIDS DIAGNOSES PER 100,000 POPULATION  \n",
       "0                              5                                 275.3  \n",
       "1                              0                                     0  \n",
       "2                             14                                  15.4  \n",
       "3                              0                                     0  \n",
       "4                              0                                     0  "
      ]
     },
     "execution_count": 46,
     "metadata": {},
     "output_type": "execute_result"
    }
   ],
   "source": [
    "#Load our data\n",
    "data = pd.read_csv('C:/Users/user pc/Downloads/HIV_AIDS_Diagnoses_by_Neighborhood__Sex__and_Race_Ethnicity_20240109.csv')\n",
    "data.head()"
   ]
  },
  {
   "cell_type": "code",
   "execution_count": 47,
   "id": "cd961491",
   "metadata": {},
   "outputs": [
    {
     "name": "stdout",
     "output_type": "stream",
     "text": [
      "<class 'pandas.core.frame.DataFrame'>\n",
      "RangeIndex: 8976 entries, 0 to 8975\n",
      "Data columns (total 11 columns):\n",
      " #   Column                                                               Non-Null Count  Dtype \n",
      "---  ------                                                               --------------  ----- \n",
      " 0   YEAR                                                                 8976 non-null   int64 \n",
      " 1   Borough                                                              6048 non-null   object\n",
      " 2   Neighborhood (U.H.F)                                                 8976 non-null   object\n",
      " 3   SEX                                                                  8976 non-null   object\n",
      " 4   RACE/ETHNICITY                                                       8976 non-null   object\n",
      " 5   TOTAL NUMBER OF HIV DIAGNOSES                                        8970 non-null   object\n",
      " 6   HIV DIAGNOSES PER 100,000 POPULATION                                 8902 non-null   object\n",
      " 7   TOTAL NUMBER OF CONCURRENT HIV/AIDS DIAGNOSES                        8974 non-null   object\n",
      " 8   PROPORTION OF CONCURRENT HIV/AIDS DIAGNOSES AMONG ALL HIV DIAGNOSES  7083 non-null   object\n",
      " 9   TOTAL NUMBER OF AIDS DIAGNOSES                                       8973 non-null   object\n",
      " 10  AIDS DIAGNOSES PER 100,000 POPULATION                                8905 non-null   object\n",
      "dtypes: int64(1), object(10)\n",
      "memory usage: 771.5+ KB\n"
     ]
    }
   ],
   "source": [
    "data.info()"
   ]
  },
  {
   "cell_type": "code",
   "execution_count": 48,
   "id": "78838127",
   "metadata": {},
   "outputs": [
    {
     "data": {
      "text/html": [
       "<div>\n",
       "<style scoped>\n",
       "    .dataframe tbody tr th:only-of-type {\n",
       "        vertical-align: middle;\n",
       "    }\n",
       "\n",
       "    .dataframe tbody tr th {\n",
       "        vertical-align: top;\n",
       "    }\n",
       "\n",
       "    .dataframe thead th {\n",
       "        text-align: right;\n",
       "    }\n",
       "</style>\n",
       "<table border=\"1\" class=\"dataframe\">\n",
       "  <thead>\n",
       "    <tr style=\"text-align: right;\">\n",
       "      <th></th>\n",
       "      <th>YEAR</th>\n",
       "    </tr>\n",
       "  </thead>\n",
       "  <tbody>\n",
       "    <tr>\n",
       "      <th>count</th>\n",
       "      <td>8976.000000</td>\n",
       "    </tr>\n",
       "    <tr>\n",
       "      <th>mean</th>\n",
       "      <td>2016.360963</td>\n",
       "    </tr>\n",
       "    <tr>\n",
       "      <th>std</th>\n",
       "      <td>3.703894</td>\n",
       "    </tr>\n",
       "    <tr>\n",
       "      <th>min</th>\n",
       "      <td>2010.000000</td>\n",
       "    </tr>\n",
       "    <tr>\n",
       "      <th>25%</th>\n",
       "      <td>2013.000000</td>\n",
       "    </tr>\n",
       "    <tr>\n",
       "      <th>50%</th>\n",
       "      <td>2017.000000</td>\n",
       "    </tr>\n",
       "    <tr>\n",
       "      <th>75%</th>\n",
       "      <td>2020.000000</td>\n",
       "    </tr>\n",
       "    <tr>\n",
       "      <th>max</th>\n",
       "      <td>2021.000000</td>\n",
       "    </tr>\n",
       "  </tbody>\n",
       "</table>\n",
       "</div>"
      ],
      "text/plain": [
       "              YEAR\n",
       "count  8976.000000\n",
       "mean   2016.360963\n",
       "std       3.703894\n",
       "min    2010.000000\n",
       "25%    2013.000000\n",
       "50%    2017.000000\n",
       "75%    2020.000000\n",
       "max    2021.000000"
      ]
     },
     "execution_count": 48,
     "metadata": {},
     "output_type": "execute_result"
    }
   ],
   "source": [
    "data.describe()"
   ]
  },
  {
   "cell_type": "code",
   "execution_count": 49,
   "id": "5846db05",
   "metadata": {},
   "outputs": [
    {
     "data": {
      "text/html": [
       "<div>\n",
       "<style scoped>\n",
       "    .dataframe tbody tr th:only-of-type {\n",
       "        vertical-align: middle;\n",
       "    }\n",
       "\n",
       "    .dataframe tbody tr th {\n",
       "        vertical-align: top;\n",
       "    }\n",
       "\n",
       "    .dataframe thead th {\n",
       "        text-align: right;\n",
       "    }\n",
       "</style>\n",
       "<table border=\"1\" class=\"dataframe\">\n",
       "  <thead>\n",
       "    <tr style=\"text-align: right;\">\n",
       "      <th></th>\n",
       "      <th>Borough</th>\n",
       "      <th>Neighborhood (U.H.F)</th>\n",
       "      <th>SEX</th>\n",
       "      <th>RACE/ETHNICITY</th>\n",
       "      <th>TOTAL NUMBER OF HIV DIAGNOSES</th>\n",
       "      <th>HIV DIAGNOSES PER 100,000 POPULATION</th>\n",
       "      <th>TOTAL NUMBER OF CONCURRENT HIV/AIDS DIAGNOSES</th>\n",
       "      <th>PROPORTION OF CONCURRENT HIV/AIDS DIAGNOSES AMONG ALL HIV DIAGNOSES</th>\n",
       "      <th>TOTAL NUMBER OF AIDS DIAGNOSES</th>\n",
       "      <th>AIDS DIAGNOSES PER 100,000 POPULATION</th>\n",
       "    </tr>\n",
       "  </thead>\n",
       "  <tbody>\n",
       "    <tr>\n",
       "      <th>count</th>\n",
       "      <td>6048</td>\n",
       "      <td>8976</td>\n",
       "      <td>8976</td>\n",
       "      <td>8976</td>\n",
       "      <td>8970</td>\n",
       "      <td>8902</td>\n",
       "      <td>8974</td>\n",
       "      <td>7083</td>\n",
       "      <td>8973</td>\n",
       "      <td>8905</td>\n",
       "    </tr>\n",
       "    <tr>\n",
       "      <th>unique</th>\n",
       "      <td>6</td>\n",
       "      <td>66</td>\n",
       "      <td>3</td>\n",
       "      <td>11</td>\n",
       "      <td>306</td>\n",
       "      <td>1260</td>\n",
       "      <td>121</td>\n",
       "      <td>305</td>\n",
       "      <td>238</td>\n",
       "      <td>991</td>\n",
       "    </tr>\n",
       "    <tr>\n",
       "      <th>top</th>\n",
       "      <td>Brooklyn</td>\n",
       "      <td>All</td>\n",
       "      <td>Male</td>\n",
       "      <td>All</td>\n",
       "      <td>0</td>\n",
       "      <td>0</td>\n",
       "      <td>0</td>\n",
       "      <td>0</td>\n",
       "      <td>0</td>\n",
       "      <td>0</td>\n",
       "    </tr>\n",
       "    <tr>\n",
       "      <th>freq</th>\n",
       "      <td>1512</td>\n",
       "      <td>760</td>\n",
       "      <td>3392</td>\n",
       "      <td>1528</td>\n",
       "      <td>3160</td>\n",
       "      <td>3142</td>\n",
       "      <td>5038</td>\n",
       "      <td>3185</td>\n",
       "      <td>3735</td>\n",
       "      <td>3714</td>\n",
       "    </tr>\n",
       "  </tbody>\n",
       "</table>\n",
       "</div>"
      ],
      "text/plain": [
       "         Borough Neighborhood (U.H.F)   SEX RACE/ETHNICITY  \\\n",
       "count       6048                 8976  8976           8976   \n",
       "unique         6                   66     3             11   \n",
       "top     Brooklyn                  All  Male            All   \n",
       "freq        1512                  760  3392           1528   \n",
       "\n",
       "       TOTAL NUMBER OF HIV DIAGNOSES HIV DIAGNOSES PER 100,000 POPULATION  \\\n",
       "count                           8970                                 8902   \n",
       "unique                           306                                 1260   \n",
       "top                                0                                    0   \n",
       "freq                            3160                                 3142   \n",
       "\n",
       "       TOTAL NUMBER OF CONCURRENT HIV/AIDS DIAGNOSES  \\\n",
       "count                                           8974   \n",
       "unique                                           121   \n",
       "top                                                0   \n",
       "freq                                            5038   \n",
       "\n",
       "       PROPORTION OF CONCURRENT HIV/AIDS DIAGNOSES AMONG ALL HIV DIAGNOSES  \\\n",
       "count                                                7083                    \n",
       "unique                                                305                    \n",
       "top                                                     0                    \n",
       "freq                                                 3185                    \n",
       "\n",
       "       TOTAL NUMBER OF AIDS DIAGNOSES AIDS DIAGNOSES PER 100,000 POPULATION  \n",
       "count                            8973                                  8905  \n",
       "unique                            238                                   991  \n",
       "top                                 0                                     0  \n",
       "freq                             3735                                  3714  "
      ]
     },
     "execution_count": 49,
     "metadata": {},
     "output_type": "execute_result"
    }
   ],
   "source": [
    "categorical = data.dtypes[data.dtypes == 'object'].index\n",
    "data[categorical].describe()"
   ]
  },
  {
   "cell_type": "code",
   "execution_count": 50,
   "id": "e3631c85",
   "metadata": {},
   "outputs": [
    {
     "data": {
      "text/plain": [
       "YEAR                                                                      0\n",
       "Borough                                                                2928\n",
       "Neighborhood (U.H.F)                                                      0\n",
       "SEX                                                                       0\n",
       "RACE/ETHNICITY                                                            0\n",
       "TOTAL NUMBER OF HIV DIAGNOSES                                             6\n",
       "HIV DIAGNOSES PER 100,000 POPULATION                                     74\n",
       "TOTAL NUMBER OF CONCURRENT HIV/AIDS DIAGNOSES                             2\n",
       "PROPORTION OF CONCURRENT HIV/AIDS DIAGNOSES AMONG ALL HIV DIAGNOSES    1893\n",
       "TOTAL NUMBER OF AIDS DIAGNOSES                                            3\n",
       "AIDS DIAGNOSES PER 100,000 POPULATION                                    71\n",
       "dtype: int64"
      ]
     },
     "execution_count": 50,
     "metadata": {},
     "output_type": "execute_result"
    }
   ],
   "source": [
    "#CLEANING\n",
    "#Missing Values\n",
    "#Total number of missing values per column\n",
    "data.isna().sum()"
   ]
  },
  {
   "cell_type": "code",
   "execution_count": 51,
   "id": "8c70ee25",
   "metadata": {},
   "outputs": [
    {
     "data": {
      "text/plain": [
       "YEAR                                                                    0.000000\n",
       "Borough                                                                32.620321\n",
       "Neighborhood (U.H.F)                                                    0.000000\n",
       "SEX                                                                     0.000000\n",
       "RACE/ETHNICITY                                                          0.000000\n",
       "TOTAL NUMBER OF HIV DIAGNOSES                                           0.066845\n",
       "HIV DIAGNOSES PER 100,000 POPULATION                                    0.824421\n",
       "TOTAL NUMBER OF CONCURRENT HIV/AIDS DIAGNOSES                           0.022282\n",
       "PROPORTION OF CONCURRENT HIV/AIDS DIAGNOSES AMONG ALL HIV DIAGNOSES    21.089572\n",
       "TOTAL NUMBER OF AIDS DIAGNOSES                                          0.033422\n",
       "AIDS DIAGNOSES PER 100,000 POPULATION                                   0.790998\n",
       "dtype: float64"
      ]
     },
     "execution_count": 51,
     "metadata": {},
     "output_type": "execute_result"
    }
   ],
   "source": [
    "#percentage per column of missing values \n",
    "data.isna().sum() / len(data) * 100"
   ]
  },
  {
   "cell_type": "code",
   "execution_count": 52,
   "id": "69e8733f",
   "metadata": {},
   "outputs": [
    {
     "data": {
      "text/plain": [
       "<Figure size 2000x800 with 0 Axes>"
      ]
     },
     "execution_count": 52,
     "metadata": {},
     "output_type": "execute_result"
    },
    {
     "data": {
      "image/png": "[encoded data removed]",
      "text/plain": [
       "<Figure size 640x480 with 1 Axes>"
      ]
     },
     "metadata": {},
     "output_type": "display_data"
    },
    {
     "data": {
      "text/plain": [
       "<Figure size 2000x800 with 0 Axes>"
      ]
     },
     "metadata": {},
     "output_type": "display_data"
    }
   ],
   "source": [
    "#Visual Representation of missing values \n",
    "sns.heatmap(data.isna(),yticklabels=False,cbar=False,cmap='viridis')\n",
    "plt.figure(figsize=(20,8))"
   ]
  },
  {
   "cell_type": "code",
   "execution_count": 53,
   "id": "6c401d01",
   "metadata": {},
   "outputs": [
    {
     "data": {
      "text/plain": [
       "0        3714\n",
       "3.3        36\n",
       "4.8        32\n",
       "2.5        31\n",
       "4.1        31\n",
       "         ... \n",
       "118.2       1\n",
       "65          1\n",
       "104.9       1\n",
       "48.4        1\n",
       "81          1\n",
       "Name: AIDS DIAGNOSES PER 100,000 POPULATION, Length: 991, dtype: int64"
      ]
     },
     "execution_count": 53,
     "metadata": {},
     "output_type": "execute_result"
    }
   ],
   "source": [
    "#Missing values from this column is less than 1%(71 values)\n",
    "#with values 0 being majority of the values, we fill the missing values in this column with 0\n",
    "data['AIDS DIAGNOSES PER 100,000 POPULATION'].value_counts()"
   ]
  },
  {
   "cell_type": "code",
   "execution_count": 54,
   "id": "7c0dbd18",
   "metadata": {},
   "outputs": [],
   "source": [
    "data['AIDS DIAGNOSES PER 100,000 POPULATION'].fillna(value=0,inplace=True)"
   ]
  },
  {
   "cell_type": "code",
   "execution_count": 55,
   "id": "d464f397",
   "metadata": {},
   "outputs": [
    {
     "data": {
      "text/plain": [
       "0      3735\n",
       "1      1040\n",
       "2       625\n",
       "3       403\n",
       "4       298\n",
       "       ... \n",
       "207       1\n",
       "204       1\n",
       "235       1\n",
       "133       1\n",
       "175       1\n",
       "Name: TOTAL NUMBER OF AIDS DIAGNOSES, Length: 238, dtype: int64"
      ]
     },
     "execution_count": 55,
     "metadata": {},
     "output_type": "execute_result"
    }
   ],
   "source": [
    "#with 3 values at less than 1%, we can confidently assign it values 0\n",
    "data['TOTAL NUMBER OF AIDS DIAGNOSES'].value_counts()"
   ]
  },
  {
   "cell_type": "code",
   "execution_count": 56,
   "id": "a5c6bcd6",
   "metadata": {},
   "outputs": [],
   "source": [
    "data['TOTAL NUMBER OF AIDS DIAGNOSES'].fillna(value=0,inplace=True)"
   ]
  },
  {
   "cell_type": "code",
   "execution_count": 58,
   "id": "d7ccb949",
   "metadata": {},
   "outputs": [
    {
     "data": {
      "text/plain": [
       "YEAR                                                                      0\n",
       "Borough                                                                2928\n",
       "Neighborhood (U.H.F)                                                      0\n",
       "SEX                                                                       0\n",
       "RACE/ETHNICITY                                                            0\n",
       "TOTAL NUMBER OF HIV DIAGNOSES                                             6\n",
       "HIV DIAGNOSES PER 100,000 POPULATION                                     74\n",
       "TOTAL NUMBER OF CONCURRENT HIV/AIDS DIAGNOSES                             2\n",
       "PROPORTION OF CONCURRENT HIV/AIDS DIAGNOSES AMONG ALL HIV DIAGNOSES    1893\n",
       "TOTAL NUMBER OF AIDS DIAGNOSES                                            0\n",
       "AIDS DIAGNOSES PER 100,000 POPULATION                                     0\n",
       "dtype: int64"
      ]
     },
     "execution_count": 58,
     "metadata": {},
     "output_type": "execute_result"
    }
   ],
   "source": [
    "data.isna().sum()"
   ]
  },
  {
   "cell_type": "code",
   "execution_count": 59,
   "id": "45e2ddcd",
   "metadata": {},
   "outputs": [
    {
     "data": {
      "text/plain": [
       "0       3185\n",
       "50       294\n",
       "33.3     243\n",
       "25       227\n",
       "100      222\n",
       "        ... \n",
       "29.9       1\n",
       "4.1        1\n",
       "32.2       1\n",
       "10.1       1\n",
       "32.3       1\n",
       "Name: PROPORTION OF CONCURRENT HIV/AIDS DIAGNOSES AMONG ALL HIV DIAGNOSES, Length: 305, dtype: int64"
      ]
     },
     "execution_count": 59,
     "metadata": {},
     "output_type": "execute_result"
    }
   ],
   "source": [
    "data['PROPORTION OF CONCURRENT HIV/AIDS DIAGNOSES AMONG ALL HIV DIAGNOSES'].value_counts()"
   ]
  },
  {
   "cell_type": "code",
   "execution_count": 60,
   "id": "931f161b",
   "metadata": {},
   "outputs": [],
   "source": [
    "#with 21%(1893) of missing values we assign the values the mean value of the column \n",
    "data['PROPORTION OF CONCURRENT HIV/AIDS DIAGNOSES AMONG ALL HIV DIAGNOSES'].fillna(value=np.mean,inplace=True)"
   ]
  },
  {
   "cell_type": "code",
   "execution_count": 70,
   "id": "485d6181",
   "metadata": {},
   "outputs": [
    {
     "data": {
      "text/plain": [
       "YEAR                                                                      0\n",
       "Borough                                                                2928\n",
       "Neighborhood (U.H.F)                                                      0\n",
       "SEX                                                                       0\n",
       "RACE/ETHNICITY                                                            0\n",
       "TOTAL NUMBER OF HIV DIAGNOSES                                             0\n",
       "HIV DIAGNOSES PER 100,000 POPULATION                                      0\n",
       "TOTAL NUMBER OF CONCURRENT HIV/AIDS DIAGNOSES                             0\n",
       "PROPORTION OF CONCURRENT HIV/AIDS DIAGNOSES AMONG ALL HIV DIAGNOSES       0\n",
       "TOTAL NUMBER OF AIDS DIAGNOSES                                            0\n",
       "AIDS DIAGNOSES PER 100,000 POPULATION                                     0\n",
       "dtype: int64"
      ]
     },
     "execution_count": 70,
     "metadata": {},
     "output_type": "execute_result"
    }
   ],
   "source": [
    "data.isna().sum()"
   ]
  },
  {
   "cell_type": "code",
   "execution_count": 63,
   "id": "d841cc52",
   "metadata": {},
   "outputs": [
    {
     "data": {
      "text/plain": [
       "0      5038\n",
       "1      1201\n",
       "2       616\n",
       "3       402\n",
       "4       276\n",
       "       ... \n",
       "288       1\n",
       "109       1\n",
       "62        1\n",
       "84        1\n",
       "50        1\n",
       "Name: TOTAL NUMBER OF CONCURRENT HIV/AIDS DIAGNOSES, Length: 121, dtype: int64"
      ]
     },
     "execution_count": 63,
     "metadata": {},
     "output_type": "execute_result"
    }
   ],
   "source": [
    "#We assign the 2 missing values 0\n",
    "data['TOTAL NUMBER OF CONCURRENT HIV/AIDS DIAGNOSES'].value_counts()"
   ]
  },
  {
   "cell_type": "code",
   "execution_count": 64,
   "id": "92839676",
   "metadata": {},
   "outputs": [],
   "source": [
    "data['TOTAL NUMBER OF CONCURRENT HIV/AIDS DIAGNOSES'].fillna(value=0,inplace=True)"
   ]
  },
  {
   "cell_type": "code",
   "execution_count": 66,
   "id": "e3629e94",
   "metadata": {},
   "outputs": [
    {
     "data": {
      "text/plain": [
       "0        3142\n",
       "5          27\n",
       "4.2        24\n",
       "5.1        23\n",
       "4.1        23\n",
       "         ... \n",
       "53.4        1\n",
       "241.1       1\n",
       "162.9       1\n",
       "118.1       1\n",
       "90.6        1\n",
       "Name: HIV DIAGNOSES PER 100,000 POPULATION, Length: 1260, dtype: int64"
      ]
     },
     "execution_count": 66,
     "metadata": {},
     "output_type": "execute_result"
    }
   ],
   "source": [
    "#we fill the 74 missing points with the mean of the column\n",
    "data['HIV DIAGNOSES PER 100,000 POPULATION'].value_counts()"
   ]
  },
  {
   "cell_type": "code",
   "execution_count": 67,
   "id": "bfd1700e",
   "metadata": {},
   "outputs": [],
   "source": [
    "data['HIV DIAGNOSES PER 100,000 POPULATION'].fillna(value=np.mean,inplace=True)"
   ]
  },
  {
   "cell_type": "code",
   "execution_count": 69,
   "id": "b35a14bf",
   "metadata": {},
   "outputs": [],
   "source": [
    "data['TOTAL NUMBER OF HIV DIAGNOSES'].fillna(value=0,inplace=True)"
   ]
  },
  {
   "cell_type": "code",
   "execution_count": 71,
   "id": "e4eca4fe",
   "metadata": {},
   "outputs": [],
   "source": [
    "#With 32% of its points missing \n",
    "#and it being a location variable we fill it with an 'NOT RECORDED' string to indicate it was a missing point\n",
    "data['Borough'].fillna(value=\"NOT RECORDED\",inplace=True)"
   ]
  },
  {
   "cell_type": "code",
   "execution_count": 72,
   "id": "1e01a847",
   "metadata": {},
   "outputs": [
    {
     "data": {
      "text/plain": [
       "<Axes: >"
      ]
     },
     "execution_count": 72,
     "metadata": {},
     "output_type": "execute_result"
    },
    {
     "data": {
      "image/png": "[encoded data removed]",
      "text/plain": [
       "<Figure size 640x480 with 1 Axes>"
      ]
     },
     "metadata": {},
     "output_type": "display_data"
    }
   ],
   "source": [
    "#Confirmation of sorted Missing Values\n",
    "sns.heatmap(data.isna(),yticklabels=False,cbar=False,cmap='viridis')"
   ]
  },
  {
   "cell_type": "code",
   "execution_count": 73,
   "id": "ffe4521f",
   "metadata": {},
   "outputs": [
    {
     "data": {
      "text/plain": [
       "YEAR                                                                   0\n",
       "Borough                                                                0\n",
       "Neighborhood (U.H.F)                                                   0\n",
       "SEX                                                                    0\n",
       "RACE/ETHNICITY                                                         0\n",
       "TOTAL NUMBER OF HIV DIAGNOSES                                          0\n",
       "HIV DIAGNOSES PER 100,000 POPULATION                                   0\n",
       "TOTAL NUMBER OF CONCURRENT HIV/AIDS DIAGNOSES                          0\n",
       "PROPORTION OF CONCURRENT HIV/AIDS DIAGNOSES AMONG ALL HIV DIAGNOSES    0\n",
       "TOTAL NUMBER OF AIDS DIAGNOSES                                         0\n",
       "AIDS DIAGNOSES PER 100,000 POPULATION                                  0\n",
       "dtype: int64"
      ]
     },
     "execution_count": 73,
     "metadata": {},
     "output_type": "execute_result"
    }
   ],
   "source": [
    "data.isna().sum()"
   ]
  },
  {
   "cell_type": "code",
   "execution_count": 74,
   "id": "f0a7adac",
   "metadata": {},
   "outputs": [],
   "source": [
    "#Now We Check for anomalies and Outliers"
   ]
  },
  {
   "cell_type": "code",
   "execution_count": 75,
   "id": "49f63998",
   "metadata": {},
   "outputs": [
    {
     "name": "stdout",
     "output_type": "stream",
     "text": [
      "2020    1728\n",
      "2016     864\n",
      "2017     864\n",
      "2018     864\n",
      "2019     864\n",
      "2021     864\n",
      "2010     732\n",
      "2011     732\n",
      "2012     732\n",
      "2013     732\n",
      "Name: YEAR, dtype: int64\n"
     ]
    }
   ],
   "source": [
    "data['YEAR'].value_counts()"
   ]
  },
  {
   "cell_type": "code",
   "execution_count": 76,
   "id": "c5a2bf36",
   "metadata": {},
   "outputs": [
    {
     "data": {
      "text/plain": [
       "Male      3392\n",
       "Female    3392\n",
       "All       2192\n",
       "Name: SEX, dtype: int64"
      ]
     },
     "execution_count": 76,
     "metadata": {},
     "output_type": "execute_result"
    }
   ],
   "source": [
    "data['SEX'].value_counts()"
   ]
  },
  {
   "cell_type": "code",
   "execution_count": 77,
   "id": "28dc4db9",
   "metadata": {},
   "outputs": [
    {
     "data": {
      "text/plain": [
       "All                        1528\n",
       "Black                      1352\n",
       "White                      1352\n",
       "Asian/Pacific\\nIslander    1008\n",
       "Latino/Hispanic            1008\n",
       "Other/Unknown              1008\n",
       "Native American             344\n",
       "Unknown                     344\n",
       "Multiracial                 344\n",
       "Asian/Pacific Islander      344\n",
       "Hispanic                    344\n",
       "Name: RACE/ETHNICITY, dtype: int64"
      ]
     },
     "execution_count": 77,
     "metadata": {},
     "output_type": "execute_result"
    }
   ],
   "source": [
    "data['RACE/ETHNICITY'].value_counts()"
   ]
  },
  {
   "cell_type": "code",
   "execution_count": null,
   "id": "f3eeeb72",
   "metadata": {},
   "outputs": [],
   "source": []
  },
  {
   "cell_type": "code",
   "execution_count": null,
   "id": "c0fa88b2",
   "metadata": {},
   "outputs": [],
   "source": []
  },
  {
   "cell_type": "code",
   "execution_count": null,
   "id": "8a22a4d2",
   "metadata": {},
   "outputs": [],
   "source": []
  }
 ],
 "metadata": {
  "kernelspec": {
   "display_name": "Python 3 (ipykernel)",
   "language": "python",
   "name": "python3"
  },
  "language_info": {
   "codemirror_mode": {
    "name": "ipython",
    "version": 3
   },
   "file_extension": ".py",
   "mimetype": "text/x-python",
   "name": "python",
   "nbconvert_exporter": "python",
   "pygments_lexer": "ipython3",
   "version": "3.9.17"
  }
 },
 "nbformat": 4,
 "nbformat_minor": 5
}
